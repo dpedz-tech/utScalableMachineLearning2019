{
 "cells": [
  {
   "cell_type": "code",
   "execution_count": 3,
   "metadata": {
    "collapsed": true,
    "pycharm": {
     "is_executing": false
    }
   },
   "outputs": [],
   "source": [
    "inputFile = open(\"data/raw_quarterRevForWN.txt\", \"r\")\n",
    "outputFile = open(\"quarterData.csv\", \"w\")\n",
    "#Q3 2019 $5,639\n",
    "outputFile.write(\"quarter,year,rev\\n\")\n",
    "for x in inputFile:\n",
    "    quarter= int(x.split(\" \")[0].replace('Q',''))\n",
    "    year = int(x.split(\" \")[1].split('\\t')[0])\n",
    "    rev = x.split(\" \")[1].split('\\t')[1].replace('$','').replace(',','')\n",
    "    outputFile.write(str(quarter)+\",\"+str(year)+\",\"+rev)\n",
    "outputFile.close()\n",
    "inputFile.close()"
   ]
  }
 ],
 "metadata": {
  "kernelspec": {
   "display_name": "Python 3",
   "language": "python",
   "name": "python3"
  },
  "language_info": {
   "codemirror_mode": {
    "name": "ipython",
    "version": 2
   },
   "file_extension": ".py",
   "mimetype": "text/x-python",
   "name": "python",
   "nbconvert_exporter": "python",
   "pygments_lexer": "ipython2",
   "version": "2.7.6"
  },
  "pycharm": {
   "stem_cell": {
    "cell_type": "raw",
    "source": [],
    "metadata": {
     "collapsed": false
    }
   }
  }
 },
 "nbformat": 4,
 "nbformat_minor": 0
}