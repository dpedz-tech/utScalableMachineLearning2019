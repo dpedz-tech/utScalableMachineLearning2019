{
 "cells": [
  {
   "cell_type": "code",
   "execution_count": 3,
   "outputs": [],
   "source": [
    "inputFile = open(\"data/raw_fueldata.csv\", \"r\")\n",
    "outputFile = open(\"fuelData.csv\", \"w\")\n",
    "quarters = [1, 1 ,1, 2, 2, 2, 3, 3, 3, 4, 4 ,4]\n",
    "# 11/27/09,75.95,\n",
    "outputFile.write(\"date,yearmonth,qyear,quarter,fuel_value\\n\")\n",
    "for x in inputFile:\n",
    "    _date= x.split(\",\")[0]\n",
    "    _yearmonth=\"20\"+_date.split(\"/\")[2] + \"-\"+ _date.split(\"/\")[0]\n",
    "    quarter = str(quarters[int(_date.split(\"/\")[0])-1])\n",
    "    fuel_value = x.split(\",\")[1]\n",
    "    qyear= \"20\"+_date.split(\"/\")[2]\n",
    "    outputFile.write(_date+\",\"+_yearmonth+\",\"+ qyear+\",\"+quarter+\",\"+fuel_value)\n",
    "outputFile.close()\n",
    "inputFile.close()"
   ],
   "metadata": {
    "collapsed": false,
    "pycharm": {
     "name": "#%%\n",
     "is_executing": false
    }
   }
  },
  {
   "cell_type": "code",
   "execution_count": 3,
   "outputs": [],
   "source": [
    "\n"
   ],
   "metadata": {
    "collapsed": false,
    "pycharm": {
     "name": "#%%\n",
     "is_executing": false
    }
   }
  }
 ],
 "metadata": {
  "kernelspec": {
   "display_name": "Python 3",
   "language": "python",
   "name": "python3"
  },
  "language_info": {
   "codemirror_mode": {
    "name": "ipython",
    "version": 2
   },
   "file_extension": ".py",
   "mimetype": "text/x-python",
   "name": "python",
   "nbconvert_exporter": "python",
   "pygments_lexer": "ipython2",
   "version": "2.7.6"
  },
  "pycharm": {
   "stem_cell": {
    "cell_type": "raw",
    "source": [],
    "metadata": {
     "collapsed": false
    }
   }
  }
 },
 "nbformat": 4,
 "nbformat_minor": 0
}