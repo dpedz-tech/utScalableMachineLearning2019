{
 "cells": [
  {
   "cell_type": "code",
   "execution_count": 1,
   "metadata": {
    "pycharm": {
     "is_executing": false,
     "name": "#%%\n"
    }
   },
   "outputs": [],
   "source": [
    "#Southwest analysis premlim"
   ]
  },
  {
   "cell_type": "code",
   "execution_count": 4,
   "metadata": {
    "pycharm": {
     "is_executing": false
    }
   },
   "outputs": [],
   "source": [
    "import pandas as pd\n",
    "import numpy as np\n",
    "from scipy.stats import skew\n",
    "import warnings\n",
    "from sklearn.linear_model import Ridge, RidgeCV, ElasticNet,Lasso, LassoCV, ElasticNetCV\n",
    "from sklearn.model_selection import cross_val_score\n",
    "from sklearn.metrics import mean_squared_error\n",
    "from tabulate import tabulate\n",
    "\n",
    "warnings.filterwarnings(\"ignore\") \n",
    "\n",
    "%matplotlib inline\n",
    "\n",
    "#Lets read the data\n",
    "train = pd.read_csv(\"QueryResultTest_Rev.csv\")\n",
    "test = pd.read_csv(\"QueryResult.csv\")\n",
    "pd.set_option('display.max_columns', None)\n",
    "pd.set_option('display.max_rows', None)"
   ]
  },
  {
   "cell_type": "code",
   "execution_count": 5,
   "metadata": {
    "pycharm": {
     "is_executing": false
    }
   },
   "outputs": [],
   "source": [
    "#Data cleansing\n",
    "all_data = pd.concat((train,\n",
    "                      test))\n",
    "#log transform the target:\n",
    "train[\"rev\"] = np.log1p(train[\"rev\"])\n",
    "\n",
    "#log transform skewed numeric features:\n",
    "numeric_feats = all_data.dtypes[all_data.dtypes != \"object\"].index\n",
    "\n",
    "skewed_feats = train[numeric_feats].apply(lambda x: skew(x.dropna())) #compute skewness\n",
    "skewed_feats = skewed_feats[skewed_feats > 0.75]\n",
    "skewed_feats = skewed_feats.index  #Lets mark which features are very skewed.\n",
    "\n",
    "all_data[skewed_feats] = np.log1p(all_data[skewed_feats])\n",
    "\n",
    "\n",
    "all_data = pd.get_dummies(all_data)\n",
    "all_data = all_data.fillna(all_data.mean())\n",
    "X_train = all_data[:train.shape[0]]\n",
    "X_test = all_data[train.shape[0]:]\n",
    "y = train.rev\n"
   ]
  },
  {
   "cell_type": "code",
   "execution_count": 6,
   "metadata": {
    "pycharm": {
     "is_executing": false,
     "name": "#%%\n"
    }
   },
   "outputs": [],
   "source": [
    "def rmse_cv(model, dataset):\n",
    "    rmse= np.sqrt(-cross_val_score(model, dataset, y, scoring=\"neg_mean_squared_error\", cv = 5))\n",
    "    return(rmse)\n",
    "\n",
    "def outputPredictionToCSV(predictionData, filename):\n",
    "    arr = test.loc[:,'quarterFlight.year']\n",
    "    arr2 = test.loc[:,'quarterFlight.quarter']\n",
    "    arr3 = np.expm1(predictionData)\n",
    "   \n",
    "    df = pd.DataFrame(data=arr, columns = ['quarterFlight.year'])\n",
    "    df.applymap(int)\n",
    "    \n",
    "    df1 = pd.DataFrame(data=arr2, columns = ['quarterFlight.quarter'])\n",
    "    df1.applymap(int)\n",
    "    \n",
    "    df2 = pd.DataFrame(data=arr3, columns = ['predict.rev'])\n",
    "        \n",
    "    df4 = pd.concat([df,df1,df2], axis=1)\n",
    "    dff = pd.DataFrame(data=df4) \n",
    "    dff.to_csv(filename+\".csv\", index=False)\n",
    "\n",
    "def printRMSE_MSE(modelName,model,trainData):\n",
    "    print(modelName +\" has RMSE of \"+ str(rmse_cv(model,trainData).mean()))\n",
    "    yHat= model.predict(trainData) \n",
    "    print(modelName + \" has MSE on train data is: \"+ str(mean_squared_error(y,yHat)))\n",
    "\n",
    "def printActuals(predictionData):\n",
    "    act_data = pd.read_csv(\"QueryResult_Rev.csv\")\n",
    "    arr3 = np.expm1(predictionData)\n",
    "    percentErrors =[]\n",
    "    for x in range(len(act_data.rev)):\n",
    "        percentError= (100*(abs(act_data.rev[x]-arr3[x])/act_data.rev[x]))\n",
    "        print(str(act_data.rev[x])+\", \"+str(arr3[x])+\", \"+ str(percentError)+\"%\")\n",
    "        percentErrors.append(percentError)\n",
    "    print(\"Avg Percent Error is : \"+str(sum(percentErrors) / len(percentErrors) ))\n",
    "        "
   ]
  },
  {
   "cell_type": "code",
   "execution_count": 7,
   "metadata": {
    "pycharm": {
     "is_executing": false,
     "name": "#%%\n"
    }
   },
   "outputs": [
    {
     "name": "stdout",
     "output_type": "stream",
     "text": [
      "ridge_regression_withGivenAlpha has RMSE of 0.05280454314537678\n",
      "ridge_regression_withGivenAlpha has MSE on train data is: 0.00011834839206926356\n"
     ]
    }
   ],
   "source": [
    "# ridge regression\n",
    "modelForProblem1= Ridge(alpha=.1) .fit(X_train, y)\n",
    "\n",
    "printRMSE_MSE('ridge_regression_withGivenAlpha',modelForProblem1,X_train)\n",
    "\n",
    "predictforModel1= modelForProblem1.predict(X_test)\n",
    "outputPredictionToCSV(predictforModel1,'ridge_regression_withGivenAlpha_output')\n"
   ]
  },
  {
   "cell_type": "code",
   "execution_count": 8,
   "metadata": {
    "pycharm": {
     "is_executing": false,
     "name": "#%%\n"
    }
   },
   "outputs": [
    {
     "name": "stdout",
     "output_type": "stream",
     "text": [
      "The best ridge regression : 0.034079704826530124 with Alpha as 5.0\n",
      "The top five are:\n",
      "5.0    0.034080\n",
      "7.0    0.034094\n",
      "8.0    0.034110\n",
      "9.0    0.034129\n",
      "9.5    0.034138\n",
      "dtype: float64\n",
      "\n",
      "\n",
      "The best lasso regression : 0.03181106515548849 with Alpha as 0.0005\n",
      "The top five are:\n",
      "0.0005    0.031811\n",
      "0.0050    0.032404\n",
      "0.0500    0.034089\n",
      "0.1000    0.035928\n",
      "0.3000    0.043163\n",
      "dtype: float64\n"
     ]
    }
   ],
   "source": [
    "# Find the best Alpha for a ridge regression and a lasso regression model.\n",
    "\n",
    "alphas = [0.000005, 0.00005, 0.00001, 0.0005, 0.0001, 0.005, 0.05, 0.1, 0.3, 0.5, 1, 3, 5, 7, 8, 9,9.5, 10, 10.5, 11, 15, 30, 50, 75, 100]\n",
    "\n",
    "cv_ridge = [rmse_cv(Ridge(alpha = alpha),X_train).mean() \n",
    "            for alpha in alphas]\n",
    "cv_ridge = pd.Series(cv_ridge, index = alphas)\n",
    "print(\"The best ridge regression : \"+str(cv_ridge.min()) +\" with Alpha as \" + str(cv_ridge.idxmin()))\n",
    "print(\"The top five are:\\n\"+ str(cv_ridge.sort_values().head(5)))\n",
    "\n",
    "\n",
    "\n",
    "cv_lasso = [rmse_cv(Lasso(alpha = alpha),X_train).mean() \n",
    "            for alpha in alphas]\n",
    "cv_lasso = pd.Series(cv_lasso, index = alphas)\n",
    "print(\"\\n\\nThe best lasso regression : \" +str(cv_lasso.min()) +\" with Alpha as \" + str(cv_lasso.idxmin()))\n",
    "print(\"The top five are:\\n\"+ str(cv_lasso.sort_values().head(5)))\n",
    "\n",
    "bestRidgeRegressionAlphaValue = cv_ridge.idxmin()\n",
    "bestLassoRegressionAlphaValue = cv_lasso.idxmin()"
   ]
  },
  {
   "cell_type": "code",
   "execution_count": 9,
   "metadata": {
    "pycharm": {
     "is_executing": false,
     "name": "#%%\n"
    }
   },
   "outputs": [
    {
     "name": "stdout",
     "output_type": "stream",
     "text": [
      "ridge_regression_withBestAlpha has RMSE of 0.034079704826530124\n",
      "ridge_regression_withBestAlpha has MSE on train data is: 0.00013014101763360116\n"
     ]
    }
   ],
   "source": [
    "# ridge regression with best alpha\n",
    "modelForProblem2= Ridge(alpha = bestRidgeRegressionAlphaValue).fit(X_train, y)\n",
    "\n",
    "printRMSE_MSE('ridge_regression_withBestAlpha',modelForProblem2,X_train)\n",
    "\n",
    "predictforModel2= modelForProblem2.predict(X_test)\n",
    "outputPredictionToCSV(predictforModel2,'ridge_regression_WithBestAlpha_output')"
   ]
  },
  {
   "cell_type": "code",
   "execution_count": 10,
   "metadata": {
    "pycharm": {
     "is_executing": false,
     "name": "#%%\n"
    }
   },
   "outputs": [
    {
     "name": "stdout",
     "output_type": "stream",
     "text": [
      "lasso_regression_withBestAlpha has RMSE of 0.03181106515548849\n",
      "lasso_regression_withBestAlpha has MSE on train data is: 0.0001273116383557397\n"
     ]
    }
   ],
   "source": [
    "# Lasso with best alpha\n",
    "modelForProblem2b= Lasso(alpha = bestLassoRegressionAlphaValue).fit(X_train, y)\n",
    "\n",
    "printRMSE_MSE('lasso_regression_withBestAlpha',modelForProblem2b,X_train)\n",
    "\n",
    "predictforModel2b= modelForProblem2b.predict(X_test)\n",
    "outputPredictionToCSV(predictforModel2b,'lasso_regression_WithBestAlpha_output')\n",
    "\n",
    "\n"
   ]
  },
  {
   "cell_type": "code",
   "execution_count": 11,
   "metadata": {},
   "outputs": [
    {
     "name": "stdout",
     "output_type": "stream",
     "text": [
      "5909, 5812.028048710942, 1.641089038569265%\n",
      "5149, 4015.032951462546, 22.02305396266176%\n",
      "5704, 3936.220076206019, 30.99193414786082%\n",
      "5575, 3955.963452401965, 29.041014306691217%\n",
      "5742, 4137.463394116115, 27.943862868057913%\n",
      "4944, 4349.357618438584, 12.027556261355505%\n",
      "5258, 4341.655009903757, 17.427633893043804%\n",
      "5303, 4057.305115116, 23.490380631416183%\n",
      "5731, 4058.246798333135, 29.18780669458847%\n",
      "4854, 4122.840107426909, 15.063038577937608%\n",
      "4940, 4057.6837986069827, 17.86065185006108%\n",
      "5139, 4066.563573559025, 20.868581950593015%\n",
      "5384, 4067.89516075906, 24.444740699125926%\n",
      "4826, 3833.835718478963, 20.55872941402895%\n",
      "Avg Percent Error is : 20.897862449713678\n"
     ]
    }
   ],
   "source": [
    "printActuals(predictforModel1)"
   ]
  },
  {
   "cell_type": "code",
   "execution_count": 12,
   "metadata": {},
   "outputs": [
    {
     "name": "stdout",
     "output_type": "stream",
     "text": [
      "5909, 4930.040790173707, 16.567256893320238%\n",
      "5149, 3863.957787294854, 24.95712201796749%\n",
      "5704, 3785.683383678402, 33.63107672373068%\n",
      "5575, 3800.613512255404, 31.82756031828871%\n",
      "5742, 3917.185655767601, 31.780117454413077%\n",
      "4944, 4112.823446308621, 16.811823496993913%\n",
      "5258, 4038.6338278719895, 23.190684140890273%\n",
      "5303, 3906.531062808953, 26.33356472168673%\n",
      "5731, 3924.143771391646, 31.527765287181186%\n",
      "4854, 4054.463354481601, 16.47170674739182%\n",
      "4940, 3975.5004994132855, 19.52428138839503%\n",
      "5139, 3987.291527127937, 22.411139771785617%\n",
      "5384, 3982.5935481447204, 26.02909457383506%\n",
      "4826, 4033.8414921175827, 16.414390963166543%\n",
      "Avg Percent Error is : 24.105541749931884\n"
     ]
    }
   ],
   "source": [
    "printActuals(predictforModel2)"
   ]
  },
  {
   "cell_type": "code",
   "execution_count": 13,
   "metadata": {},
   "outputs": [
    {
     "name": "stdout",
     "output_type": "stream",
     "text": [
      "5909, 5273.9160104395305, 10.747740557801142%\n",
      "5149, 3868.1246189350722, 24.876196952125223%\n",
      "5704, 3791.8244320831072, 33.52341458479826%\n",
      "5575, 3809.3417110140003, 31.671000699300443%\n",
      "5742, 3967.336384846467, 30.906715694070584%\n",
      "4944, 4164.511957332092, 15.766343905095232%\n",
      "5258, 4125.427931034031, 21.539978489272904%\n",
      "5303, 3927.633057615744, 25.935639117183783%\n",
      "5731, 3947.6978657129475, 31.116770795446737%\n",
      "4854, 4039.5069644972696, 16.77983179857294%\n",
      "4940, 3975.4445703296324, 19.525413556080316%\n",
      "5139, 3989.20189044652, 22.373965937993386%\n",
      "5384, 3998.488321987451, 25.73387217705329%\n",
      "4826, 3879.503162441335, 19.61245001157615%\n",
      "Avg Percent Error is : 23.57923816259788\n"
     ]
    }
   ],
   "source": [
    "printActuals(predictforModel2b)"
   ]
  },
  {
   "cell_type": "code",
   "execution_count": null,
   "metadata": {},
   "outputs": [],
   "source": []
  },
  {
   "cell_type": "code",
   "execution_count": null,
   "metadata": {},
   "outputs": [],
   "source": []
  }
 ],
 "metadata": {
  "kernelspec": {
   "display_name": "Environment (conda_pytorch_p36)",
   "language": "python",
   "name": "conda_pytorch_p36"
  },
  "language_info": {
   "codemirror_mode": {
    "name": "ipython",
    "version": 3
   },
   "file_extension": ".py",
   "mimetype": "text/x-python",
   "name": "python",
   "nbconvert_exporter": "python",
   "pygments_lexer": "ipython3",
   "version": "3.6.5"
  },
  "pycharm": {
   "stem_cell": {
    "cell_type": "raw",
    "metadata": {
     "collapsed": false
    },
    "source": []
   }
  }
 },
 "nbformat": 4,
 "nbformat_minor": 2
}
