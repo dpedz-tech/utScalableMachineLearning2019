{
 "cells": [
  {
   "cell_type": "code",
   "execution_count": 1,
   "metadata": {
    "pycharm": {
     "is_executing": false,
     "name": "#%%\n"
    }
   },
   "outputs": [],
   "source": [
    "#Southwest analysis premlim"
   ]
  },
  {
   "cell_type": "code",
   "execution_count": 34,
   "metadata": {
    "pycharm": {
     "is_executing": false
    }
   },
   "outputs": [],
   "source": [
    "import pandas as pd\n",
    "import numpy as np\n",
    "from scipy.stats import skew\n",
    "import warnings\n",
    "from sklearn.linear_model import Ridge, RidgeCV, ElasticNet,Lasso, LassoCV, ElasticNetCV\n",
    "from sklearn.model_selection import cross_val_score\n",
    "from sklearn.metrics import mean_squared_error\n",
    "from tabulate import tabulate\n",
    "\n",
    "warnings.filterwarnings(\"ignore\") \n",
    "\n",
    "%matplotlib inline\n",
    "\n",
    "#Lets read the data\n",
    "train = pd.read_csv(\"QueryResultTest_Rev.csv\")\n",
    "test = pd.read_csv(\"QueryResult.csv\")\n",
    "pd.set_option('display.max_columns', None)\n",
    "pd.set_option('display.max_rows', None)"
   ]
  },
  {
   "cell_type": "code",
   "execution_count": 35,
   "metadata": {
    "pycharm": {
     "is_executing": false
    }
   },
   "outputs": [],
   "source": [
    "#Data cleansing\n",
    "all_data = pd.concat((train,\n",
    "                      test))\n",
    "#log transform the target:\n",
    "train[\"rev\"] = np.log1p(train[\"rev\"])\n",
    "\n",
    "#log transform skewed numeric features:\n",
    "numeric_feats = all_data.dtypes[all_data.dtypes != \"object\"].index\n",
    "\n",
    "skewed_feats = train[numeric_feats].apply(lambda x: skew(x.dropna())) #compute skewness\n",
    "skewed_feats = skewed_feats[skewed_feats > 0.75]\n",
    "skewed_feats = skewed_feats.index  #Lets mark which features are very skewed.\n",
    "\n",
    "all_data[skewed_feats] = np.log1p(all_data[skewed_feats])\n",
    "\n",
    "\n",
    "all_data = pd.get_dummies(all_data)\n",
    "all_data = all_data.fillna(all_data.mean())\n",
    "X_train = all_data[:train.shape[0]]\n",
    "X_test = all_data[train.shape[0]:]\n",
    "y = train.rev\n"
   ]
  },
  {
   "cell_type": "code",
   "execution_count": 60,
   "metadata": {
    "pycharm": {
     "is_executing": false,
     "name": "#%%\n"
    }
   },
   "outputs": [],
   "source": [
    "def rmse_cv(model, dataset):\n",
    "    rmse= np.sqrt(-cross_val_score(model, dataset, y, scoring=\"neg_mean_squared_error\", cv = 5))\n",
    "    return(rmse)\n",
    "\n",
    "def outputPredictionToCSV(predictionData, filename):\n",
    "    arr = test.loc[:,'year']\n",
    "    arr2 = test.loc[:,'quarter']\n",
    "    arr3 = np.expm1(predictionData)\n",
    "   \n",
    "    df = pd.DataFrame(data=arr, columns = ['year'])\n",
    "    df.applymap(int)\n",
    "    \n",
    "    df1 = pd.DataFrame(data=arr2, columns = ['quarter'])\n",
    "    df1.applymap(int)\n",
    "    \n",
    "    df2 = pd.DataFrame(data=arr3, columns = ['predict.rev'])\n",
    "        \n",
    "    df4 = pd.concat([df,df1,df2], axis=1)\n",
    "    dff = pd.DataFrame(data=df4) \n",
    "    dff.to_csv(filename+\".csv\", index=False)\n",
    "\n",
    "def printRMSE_MSE(modelName,model,trainData):\n",
    "    print(modelName +\" has RMSE of \"+ str(rmse_cv(model,trainData).mean()))\n",
    "    yHat= model.predict(trainData) \n",
    "    print(modelName + \" has MSE on train data is: \"+ str(mean_squared_error(y,yHat)))\n",
    "\n",
    "def printActuals(predictionData):\n",
    "    act_data = pd.read_csv(\"QueryResult_Rev.csv\")\n",
    "#     print(act_data)\n",
    "    arr3 = np.expm1(predictionData)\n",
    "    percentErrors =[]\n",
    "    for x in range(len(act_data.rev)):\n",
    "        percentError= (100*(abs(act_data.rev[x]-arr3[x])/act_data.rev[x]))\n",
    "        print(\"Quarter : \"+str(act_data.quarter[x])+\" Year: \"+str(act_data.year[x])+\" : Actual: \"+str(act_data.rev[x])+\" ,Prediction: \"+str(arr3[x])+\" ,Error: \"+ str(percentError)+\"%\")\n",
    "        percentErrors.append(percentError)\n",
    "    print(\"Avg Percent Error is : \"+str(sum(percentErrors) / len(percentErrors) ))\n",
    "        "
   ]
  },
  {
   "cell_type": "code",
   "execution_count": 61,
   "metadata": {
    "pycharm": {
     "is_executing": false,
     "name": "#%%\n"
    }
   },
   "outputs": [
    {
     "name": "stdout",
     "output_type": "stream",
     "text": [
      "ridge_regression_withGivenAlpha has RMSE of 0.0528045431453785\n",
      "ridge_regression_withGivenAlpha has MSE on train data is: 0.00011834839206927143\n"
     ]
    }
   ],
   "source": [
    "# ridge regression\n",
    "modelForProblem1= Ridge(alpha=.1) .fit(X_train, y)\n",
    "\n",
    "printRMSE_MSE('ridge_regression_withGivenAlpha',modelForProblem1,X_train)\n",
    "\n",
    "predictforModel1= modelForProblem1.predict(X_test)\n",
    "outputPredictionToCSV(predictforModel1,'ridge_regression_withGivenAlpha_output')\n"
   ]
  },
  {
   "cell_type": "code",
   "execution_count": 62,
   "metadata": {
    "pycharm": {
     "is_executing": false,
     "name": "#%%\n"
    }
   },
   "outputs": [
    {
     "name": "stdout",
     "output_type": "stream",
     "text": [
      "The best ridge regression : 0.0340797048265295 with Alpha as 5.0\n",
      "The top five are:\n",
      "5.0    0.034080\n",
      "7.0    0.034094\n",
      "8.0    0.034110\n",
      "9.0    0.034129\n",
      "9.5    0.034138\n",
      "dtype: float64\n",
      "\n",
      "\n",
      "The best lasso regression : 0.03184616720321791 with Alpha as 0.0005\n",
      "The top five are:\n",
      "0.0005    0.031846\n",
      "0.0050    0.032383\n",
      "0.0500    0.034090\n",
      "0.1000    0.035930\n",
      "0.0001    0.040202\n",
      "dtype: float64\n"
     ]
    }
   ],
   "source": [
    "# Find the best Alpha for a ridge regression and a lasso regression model.\n",
    "\n",
    "alphas = [0.000005, 0.00005, 0.00001, 0.0005, 0.0001, 0.005, 0.05, 0.1, 0.3, 0.5, 1, 3, 5, 7, 8, 9,9.5, 10, 10.5, 11, 15, 30, 50, 75, 100]\n",
    "\n",
    "cv_ridge = [rmse_cv(Ridge(alpha = alpha),X_train).mean() \n",
    "            for alpha in alphas]\n",
    "cv_ridge = pd.Series(cv_ridge, index = alphas)\n",
    "print(\"The best ridge regression : \"+str(cv_ridge.min()) +\" with Alpha as \" + str(cv_ridge.idxmin()))\n",
    "print(\"The top five are:\\n\"+ str(cv_ridge.sort_values().head(5)))\n",
    "\n",
    "\n",
    "\n",
    "cv_lasso = [rmse_cv(Lasso(alpha = alpha),X_train).mean() \n",
    "            for alpha in alphas]\n",
    "cv_lasso = pd.Series(cv_lasso, index = alphas)\n",
    "print(\"\\n\\nThe best lasso regression : \" +str(cv_lasso.min()) +\" with Alpha as \" + str(cv_lasso.idxmin()))\n",
    "print(\"The top five are:\\n\"+ str(cv_lasso.sort_values().head(5)))\n",
    "\n",
    "bestRidgeRegressionAlphaValue = cv_ridge.idxmin()\n",
    "bestLassoRegressionAlphaValue = cv_lasso.idxmin()"
   ]
  },
  {
   "cell_type": "code",
   "execution_count": 63,
   "metadata": {
    "pycharm": {
     "is_executing": false,
     "name": "#%%\n"
    }
   },
   "outputs": [
    {
     "name": "stdout",
     "output_type": "stream",
     "text": [
      "ridge_regression_withBestAlpha has RMSE of 0.0340797048265295\n",
      "ridge_regression_withBestAlpha has MSE on train data is: 0.00013014101763361284\n"
     ]
    }
   ],
   "source": [
    "# ridge regression with best alpha\n",
    "modelForProblem2= Ridge(alpha = bestRidgeRegressionAlphaValue).fit(X_train, y)\n",
    "\n",
    "printRMSE_MSE('ridge_regression_withBestAlpha',modelForProblem2,X_train)\n",
    "\n",
    "predictforModel2= modelForProblem2.predict(X_test)\n",
    "outputPredictionToCSV(predictforModel2,'ridge_regression_WithBestAlpha_output')"
   ]
  },
  {
   "cell_type": "code",
   "execution_count": 64,
   "metadata": {
    "pycharm": {
     "is_executing": false,
     "name": "#%%\n"
    }
   },
   "outputs": [
    {
     "name": "stdout",
     "output_type": "stream",
     "text": [
      "lasso_regression_withBestAlpha has RMSE of 0.03184616720321791\n",
      "lasso_regression_withBestAlpha has MSE on train data is: 0.00012940690560303978\n"
     ]
    }
   ],
   "source": [
    "# Lasso with best alpha\n",
    "modelForProblem2b= Lasso(alpha = bestLassoRegressionAlphaValue).fit(X_train, y)\n",
    "\n",
    "printRMSE_MSE('lasso_regression_withBestAlpha',modelForProblem2b,X_train)\n",
    "\n",
    "predictforModel2b= modelForProblem2b.predict(X_test)\n",
    "outputPredictionToCSV(predictforModel2b,'lasso_regression_WithBestAlpha_output')\n",
    "\n",
    "\n"
   ]
  },
  {
   "cell_type": "code",
   "execution_count": 65,
   "metadata": {},
   "outputs": [
    {
     "name": "stdout",
     "output_type": "stream",
     "text": [
      "Quarter : 2 Year: 2019 : Actual: 5909 ,Prediction: 5812.028048710654 ,Error: 1.6410890385741443%\n",
      "Quarter : 1 Year: 2019 : Actual: 5149 ,Prediction: 4015.0329514624605 ,Error: 22.023053962663422%\n",
      "Quarter : 4 Year: 2018 : Actual: 5704 ,Prediction: 3936.220076205935 ,Error: 30.99193414786229%\n",
      "Quarter : 3 Year: 2018 : Actual: 5575 ,Prediction: 3955.9634524019084 ,Error: 29.041014306692226%\n",
      "Quarter : 2 Year: 2018 : Actual: 5742 ,Prediction: 4137.463394116026 ,Error: 27.943862868059448%\n",
      "Quarter : 1 Year: 2018 : Actual: 4944 ,Prediction: 4349.357618438553 ,Error: 12.027556261356132%\n",
      "Quarter : 4 Year: 2017 : Actual: 5258 ,Prediction: 4341.655009903634 ,Error: 17.427633893046142%\n",
      "Quarter : 3 Year: 2017 : Actual: 5303 ,Prediction: 4057.3051151158843 ,Error: 23.49038063141836%\n",
      "Quarter : 2 Year: 2017 : Actual: 5731 ,Prediction: 4058.2467983330484 ,Error: 29.187806694589973%\n",
      "Quarter : 1 Year: 2017 : Actual: 4854 ,Prediction: 4122.840107426938 ,Error: 15.063038577937007%\n",
      "Quarter : 4 Year: 2016 : Actual: 4940 ,Prediction: 4057.683798606925 ,Error: 17.860651850062247%\n",
      "Quarter : 3 Year: 2016 : Actual: 5139 ,Prediction: 4066.563573559025 ,Error: 20.868581950593015%\n",
      "Quarter : 2 Year: 2016 : Actual: 5384 ,Prediction: 4067.8951607590316 ,Error: 24.44474069912646%\n",
      "Quarter : 1 Year: 2016 : Actual: 4826 ,Prediction: 3833.835718479072 ,Error: 20.55872941402669%\n",
      "Avg Percent Error is : 20.897862449714825\n"
     ]
    }
   ],
   "source": [
    "printActuals(predictforModel1)"
   ]
  },
  {
   "cell_type": "code",
   "execution_count": 66,
   "metadata": {},
   "outputs": [
    {
     "name": "stdout",
     "output_type": "stream",
     "text": [
      "Quarter : 2 Year: 2019 : Actual: 5909 ,Prediction: 4930.040790173856 ,Error: 16.567256893317715%\n",
      "Quarter : 1 Year: 2019 : Actual: 5149 ,Prediction: 3863.9577872948125 ,Error: 24.957122017968295%\n",
      "Quarter : 4 Year: 2018 : Actual: 5704 ,Prediction: 3785.6833836783617 ,Error: 33.63107672373138%\n",
      "Quarter : 3 Year: 2018 : Actual: 5575 ,Prediction: 3800.61351225537 ,Error: 31.82756031828933%\n",
      "Quarter : 2 Year: 2018 : Actual: 5742 ,Prediction: 3917.185655767601 ,Error: 31.780117454413077%\n",
      "Quarter : 1 Year: 2018 : Actual: 4944 ,Prediction: 4112.823446308621 ,Error: 16.811823496993913%\n",
      "Quarter : 4 Year: 2017 : Actual: 5258 ,Prediction: 4038.6338278719895 ,Error: 23.190684140890273%\n",
      "Quarter : 3 Year: 2017 : Actual: 5303 ,Prediction: 3906.531062808932 ,Error: 26.333564721687125%\n",
      "Quarter : 2 Year: 2017 : Actual: 5731 ,Prediction: 3924.1437713916253 ,Error: 31.527765287181552%\n",
      "Quarter : 1 Year: 2017 : Actual: 4854 ,Prediction: 4054.4633544815865 ,Error: 16.47170674739212%\n",
      "Quarter : 4 Year: 2016 : Actual: 4940 ,Prediction: 3975.5004994132782 ,Error: 19.524281388395178%\n",
      "Quarter : 3 Year: 2016 : Actual: 5139 ,Prediction: 3987.291527127937 ,Error: 22.411139771785617%\n",
      "Quarter : 2 Year: 2016 : Actual: 5384 ,Prediction: 3982.5935481447277 ,Error: 26.02909457383492%\n",
      "Quarter : 1 Year: 2016 : Actual: 4826 ,Prediction: 4033.8414921175613 ,Error: 16.414390963166987%\n",
      "Avg Percent Error is : 24.105541749931966\n"
     ]
    }
   ],
   "source": [
    "printActuals(predictforModel2)"
   ]
  },
  {
   "cell_type": "code",
   "execution_count": 67,
   "metadata": {},
   "outputs": [
    {
     "name": "stdout",
     "output_type": "stream",
     "text": [
      "Quarter : 2 Year: 2019 : Actual: 5909 ,Prediction: 5088.8390978021735 ,Error: 13.879859573495118%\n",
      "Quarter : 1 Year: 2019 : Actual: 5149 ,Prediction: 3855.148429945086 ,Error: 25.128210721594762%\n",
      "Quarter : 4 Year: 2018 : Actual: 5704 ,Prediction: 3776.7752963513663 ,Error: 33.78724936270396%\n",
      "Quarter : 3 Year: 2018 : Actual: 5575 ,Prediction: 3794.040600066218 ,Error: 31.945460088498333%\n",
      "Quarter : 2 Year: 2018 : Actual: 5742 ,Prediction: 3935.690070370278 ,Error: 31.457853180594253%\n",
      "Quarter : 1 Year: 2018 : Actual: 4944 ,Prediction: 4133.62638822968 ,Error: 16.391052018008093%\n",
      "Quarter : 4 Year: 2017 : Actual: 5258 ,Prediction: 4074.914626269377 ,Error: 22.50067276018682%\n",
      "Quarter : 3 Year: 2017 : Actual: 5303 ,Prediction: 3910.226223818641 ,Error: 26.263884144472172%\n",
      "Quarter : 2 Year: 2017 : Actual: 5731 ,Prediction: 3931.1973947258007 ,Error: 31.40468688316523%\n",
      "Quarter : 1 Year: 2017 : Actual: 4854 ,Prediction: 4042.3469234071863 ,Error: 16.721324198451047%\n",
      "Quarter : 4 Year: 2016 : Actual: 4940 ,Prediction: 3971.086771399451 ,Error: 19.61362810932285%\n",
      "Quarter : 3 Year: 2016 : Actual: 5139 ,Prediction: 3985.0547792296707 ,Error: 22.454664735752665%\n",
      "Quarter : 2 Year: 2016 : Actual: 5384 ,Prediction: 3988.4928495937424 ,Error: 25.919523595955752%\n",
      "Quarter : 1 Year: 2016 : Actual: 4826 ,Prediction: 3958.0795784601446 ,Error: 17.984260703270937%\n",
      "Avg Percent Error is : 23.96088071967657\n"
     ]
    }
   ],
   "source": [
    "printActuals(predictforModel2b)"
   ]
  },
  {
   "cell_type": "code",
   "execution_count": null,
   "metadata": {},
   "outputs": [],
   "source": []
  },
  {
   "cell_type": "code",
   "execution_count": null,
   "metadata": {},
   "outputs": [],
   "source": []
  },
  {
   "cell_type": "code",
   "execution_count": null,
   "metadata": {},
   "outputs": [],
   "source": []
  }
 ],
 "metadata": {
  "kernelspec": {
   "display_name": "Environment (conda_pytorch_p36)",
   "language": "python",
   "name": "conda_pytorch_p36"
  },
  "language_info": {
   "codemirror_mode": {
    "name": "ipython",
    "version": 3
   },
   "file_extension": ".py",
   "mimetype": "text/x-python",
   "name": "python",
   "nbconvert_exporter": "python",
   "pygments_lexer": "ipython3",
   "version": "3.6.5"
  },
  "pycharm": {
   "stem_cell": {
    "cell_type": "raw",
    "metadata": {
     "collapsed": false
    },
    "source": []
   }
  }
 },
 "nbformat": 4,
 "nbformat_minor": 2
}
