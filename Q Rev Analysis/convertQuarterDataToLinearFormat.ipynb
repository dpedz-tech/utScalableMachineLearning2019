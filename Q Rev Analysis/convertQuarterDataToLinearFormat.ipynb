{
 "cells": [
  {
   "cell_type": "code",
   "execution_count": 51,
   "metadata": {
    "pycharm": {
     "is_executing": false
    }
   },
   "outputs": [
    {
     "name": "stdout",
     "output_type": "stream",
     "text": [
      "9348\n",
      "9348\n"
     ]
    }
   ],
   "source": [
    "import pandas as pd\n",
    "\n",
    "inputFile = open(\"full-quarter.csv\", \"r\")\n",
    "# outputFile = open(\"new_full_quarterData.csv\", \"w\")\n",
    "\n",
    "yearList = [2010,2011,2012,2013,2014,2015,2016,2017,2018,2019]\n",
    "\n",
    "quarterList=[]\n",
    "for year in yearList:\n",
    "    for quarter in [1,2,3,4]:\n",
    "        newList= []\n",
    "        quarterList.append(newList)\n",
    "        \n",
    "columnHeaders = []\n",
    "#firstLoopDefineHeaders & Standard Values\n",
    "for x in inputFile:\n",
    "    row_values= x.split(',')\n",
    "    if row_values[0]!= \"year\" :\n",
    "        year=int(row_values[0])\n",
    "        quarter=int(row_values[1])\n",
    "        fuel_price=float(row_values[2])\n",
    "        stock_price =float(row_values[3])\n",
    "        operating_expense =int(row_values[4])\n",
    "        revenue =int(row_values[5])\n",
    "        origin = row_values[6]\n",
    "        destination = row_values[7]\n",
    "        aircraft = row_values[8]\n",
    "        flights_flown = row_values[9]\n",
    "        passengers_carried = row_values[10].rstrip(\"\\n\\r\")\n",
    "        \n",
    "        indexOfQuarter= (yearList.index(year))*4 + quarter-1\n",
    "#         print(str(indexOfQuarter) +\" \"+str(year)+\" \"+str(quarter))\n",
    "#         print(len(quarterList[indexOfQuarter-1]))\n",
    "#         print(quarterList[indexOfQuarter])\n",
    "        if len(quarterList[indexOfQuarter])==0:\n",
    "            columnHeaders.append('year')\n",
    "            columnHeaders.append('quarter')\n",
    "            columnHeaders.append('fuel_price')\n",
    "            columnHeaders.append('stock_price')\n",
    "            columnHeaders.append('operational_expense')\n",
    "            columnHeaders.append('revenue')\n",
    "            quarterList[indexOfQuarter].append(year)\n",
    "            quarterList[indexOfQuarter].append(quarter)\n",
    "            quarterList[indexOfQuarter].append(fuel_price)\n",
    "            quarterList[indexOfQuarter].append(stock_price)\n",
    "            quarterList[indexOfQuarter].append(operating_expense)\n",
    "            quarterList[indexOfQuarter].append(revenue)\n",
    "\n",
    "        if int(flights_flown) > 0:\n",
    "            if not (origin+'-'+destination+'-'+aircraft+'_'+'flights_flown' in columnHeaders): \n",
    "                columnHeaders.append(origin+'-'+destination+'-'+aircraft+'_'+'flights_flown')\n",
    "#             quarterList[indexOfQuarter].append(flights_flown)\n",
    "\n",
    "\n",
    "        if int(passengers_carried) > 0:\n",
    "            if not (origin+'-'+destination+'-'+aircraft+'_'+'passengers_carried' in columnHeaders):\n",
    "                columnHeaders.append(origin+'-'+destination+'-'+aircraft+'_'+'passengers_carried')\n",
    "#             quarterList[indexOfQuarter].append(passengers_carried)\n",
    "#         quarterList[indexOfQuarter].append(origin)\n",
    "#         quarterList[indexOfQuarter].append(destination)\n",
    "#         quarterList[indexOfQuarter].append(aircraft)\n",
    "#         quarterList[indexOfQuarter].append(flights_flown)\n",
    "#         quarterList[indexOfQuarter].append(passengers_carried)\n",
    "\n",
    "\n",
    "for ql in quarterList:\n",
    "    for i in range(len(columnHeaders)-len(ql)):\n",
    "        ql.append(0)\n",
    "\n",
    "print(len(columnHeaders))\n",
    "print(len(quarterList[0]))\n",
    "\n",
    "# df = pd.DataFrame(quarterList, columns=columnHeaders) \n",
    "# print(df.shape)\n",
    "# print(len(columnHeaders))\n",
    "# df = df.fillna(0)\n",
    "# df.to_csv(\"new_full_quarterData.csv\", columns=columnHeaders, index=False)\n",
    "# #   outputFile.write(str(quarter)+\",\"+str(year)+\",\"+rev)\n",
    "# # outputFile.close()\n",
    "inputFile.close()"
   ]
  },
  {
   "cell_type": "code",
   "execution_count": 54,
   "metadata": {},
   "outputs": [
    {
     "name": "stdout",
     "output_type": "stream",
     "text": [
      "done\n"
     ]
    }
   ],
   "source": [
    "inputFile = open(\"full-quarter.csv\", \"r\")\n",
    "#firstLoopDefineHeaders & Standard Values\n",
    "for x in inputFile:\n",
    "    row_values= x.split(',')\n",
    "    if row_values[0]!= \"year\" :\n",
    "        year=int(row_values[0])\n",
    "        quarter=int(row_values[1])\n",
    "#         fuel_price=float(row_values[2])\n",
    "#         stock_price =float(row_values[3])\n",
    "#         operating_expense =int(row_values[4])\n",
    "#         revenue =int(row_values[5])\n",
    "        origin = row_values[6]\n",
    "        destination = row_values[7]\n",
    "        aircraft = row_values[8]\n",
    "        flights_flown = row_values[9]\n",
    "        passengers_carried = row_values[10].rstrip(\"\\n\\r\")\n",
    "        \n",
    "        indexOfQuarter= (yearList.index(year))*4 + quarter-1\n",
    "        if int(flights_flown) > 0:\n",
    "            indexOfQLToOverWrite=columnHeaders.index(origin+'-'+destination+'-'+aircraft+'_'+'flights_flown')\n",
    "            quarterList[indexOfQuarter][indexOfQLToOverWrite]=flights_flown\n",
    "\n",
    "        if int(passengers_carried) > 0:\n",
    "            indexOfQLToOverWrite2=columnHeaders.index(origin+'-'+destination+'-'+aircraft+'_'+'passengers_carried')\n",
    "            quarterList[indexOfQuarter][indexOfQLToOverWrite2]=passengers_carried\n",
    "# print(columnHeaders)\n",
    "# print(quarterList[0])\n",
    "\n",
    "df = pd.DataFrame(quarterList, columns=columnHeaders) \n",
    "\n",
    "df.to_csv(\"new_full_quarterData.csv\", index=False)\n",
    "#   outputFile.write(str(quarter)+\",\"+str(year)+\",\"+rev)\n",
    "# outputFile.close()\n",
    "print(\"done\")\n",
    "inputFile.close()"
   ]
  },
  {
   "cell_type": "code",
   "execution_count": null,
   "metadata": {},
   "outputs": [],
   "source": []
  },
  {
   "cell_type": "code",
   "execution_count": null,
   "metadata": {},
   "outputs": [],
   "source": []
  }
 ],
 "metadata": {
  "kernelspec": {
   "display_name": "Python 3",
   "language": "python",
   "name": "python3"
  },
  "language_info": {
   "codemirror_mode": {
    "name": "ipython",
    "version": 3
   },
   "file_extension": ".py",
   "mimetype": "text/x-python",
   "name": "python",
   "nbconvert_exporter": "python",
   "pygments_lexer": "ipython3",
   "version": "3.6.6"
  },
  "pycharm": {
   "stem_cell": {
    "cell_type": "raw",
    "metadata": {
     "collapsed": false
    },
    "source": []
   }
  }
 },
 "nbformat": 4,
 "nbformat_minor": 1
}
