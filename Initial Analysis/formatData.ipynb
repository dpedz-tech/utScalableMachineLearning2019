{
 "cells": [
  {
   "cell_type": "code",
   "execution_count": 10,
   "metadata": {
    "collapsed": true,
    "pycharm": {
     "is_executing": false
    }
   },
   "outputs": [],
   "source": [
    "inputFile = open(\"quarter.txt\", \"r\")\n",
    "outputFile = open(\"quarterData.csv\", \"w\")\n",
    "#Q3 2019 $5,639\n",
    "outputFile.write(\"quarter,year,rev\\n\")\n",
    "for x in inputFile:\n",
    "    quarter= x.split(\" \")[0]\n",
    "    year = x.split(\" \")[1].split('\\t')[0]\n",
    "    rev = x.split(\" \")[1].split('\\t')[1].replace('$','').replace(',','')\n",
    "    outputFile.write(quarter+\",\"+year+\",\"+rev)\n",
    "outputFile.close()\n",
    "inputFile.close()"
   ]
  }
 ],
 "metadata": {
  "kernelspec": {
   "display_name": "Python 3",
   "language": "python",
   "name": "python3"
  },
  "language_info": {
   "codemirror_mode": {
    "name": "ipython",
    "version": 2
   },
   "file_extension": ".py",
   "mimetype": "text/x-python",
   "name": "python",
   "nbconvert_exporter": "python",
   "pygments_lexer": "ipython2",
   "version": "2.7.6"
  },
  "pycharm": {
   "stem_cell": {
    "cell_type": "raw",
    "source": [],
    "metadata": {
     "collapsed": false
    }
   }
  }
 },
 "nbformat": 4,
 "nbformat_minor": 0
}